{
 "cells": [
  {
   "cell_type": "markdown",
   "id": "a949809e",
   "metadata": {},
   "source": [
    "# 🌍 Predicting CO₂ Emissions using Machine Learning\n",
    "\n",
    "This notebook trains a regression model to forecast carbon dioxide emissions using socio-economic and energy data."
   ]
  },
  {
   "cell_type": "code",
   "execution_count": null,
   "id": "f990d251",
   "metadata": {},
   "outputs": [],
   "source": [
    "import pandas as pd\n",
    "import matplotlib.pyplot as plt\n",
    "import seaborn as sns\n",
    "from sklearn.model_selection import train_test_split\n",
    "from sklearn.linear_model import LinearRegression\n",
    "from sklearn.metrics import mean_absolute_error, r2_score\n"
   ]
  },
  {
   "cell_type": "code",
   "execution_count": null,
   "id": "0fb7ace2",
   "metadata": {},
   "outputs": [],
   "source": [
    "# Load dataset\n",
    "df = pd.read_csv('dataset.csv')\n",
    "df.head()\n"
   ]
  },
  {
   "cell_type": "code",
   "execution_count": null,
   "id": "877bfc54",
   "metadata": {},
   "outputs": [],
   "source": [
    "# Check data structure\n",
    "df.info()\n",
    "df.describe()\n"
   ]
  },
  {
   "cell_type": "code",
   "execution_count": null,
   "id": "62d5d130",
   "metadata": {},
   "outputs": [],
   "source": [
    "# Pairplot to visualize relationships\n",
    "sns.pairplot(df)\n",
    "plt.show()\n"
   ]
  },
  {
   "cell_type": "code",
   "execution_count": null,
   "id": "ba6362fe",
   "metadata": {},
   "outputs": [],
   "source": [
    "# Features and target\n",
    "X = df[['GDP', 'Energy_Consumption', 'Population']]\n",
    "y = df['CO2_Emissions']\n",
    "\n",
    "# Split the dataset\n",
    "X_train, X_test, y_train, y_test = train_test_split(X, y, test_size=0.25, random_state=42)\n"
   ]
  },
  {
   "cell_type": "code",
   "execution_count": null,
   "id": "d82017ac",
   "metadata": {},
   "outputs": [],
   "source": [
    "# Train a linear regression model\n",
    "model = LinearRegression()\n",
    "model.fit(X_train, y_train)\n"
   ]
  },
  {
   "cell_type": "code",
   "execution_count": null,
   "id": "1468bd51",
   "metadata": {},
   "outputs": [],
   "source": [
    "# Predict on test set\n",
    "y_pred = model.predict(X_test)\n"
   ]
  },
  {
   "cell_type": "code",
   "execution_count": null,
   "id": "f4c8431c",
   "metadata": {},
   "outputs": [],
   "source": [
    "# Evaluation metrics\n",
    "mae = mean_absolute_error(y_test, y_pred)\n",
    "r2 = r2_score(y_test, y_pred)\n",
    "\n",
    "print(\"Mean Absolute Error (MAE):\", mae)\n",
    "print(\"R² Score:\", r2)\n"
   ]
  },
  {
   "cell_type": "code",
   "execution_count": null,
   "id": "61d17ea2",
   "metadata": {},
   "outputs": [],
   "source": [
    "# Plot actual vs predicted\n",
    "plt.figure(figsize=(6, 4))\n",
    "plt.scatter(y_test, y_pred, color='green')\n",
    "plt.plot([y_test.min(), y_test.max()], [y_test.min(), y_test.max()], 'r--')\n",
    "plt.xlabel('Actual CO₂ Emissions')\n",
    "plt.ylabel('Predicted CO₂ Emissions')\n",
    "plt.title('Actual vs Predicted CO₂ Emissions')\n",
    "plt.grid(True)\n",
    "plt.savefig('images/prediction_plot.png')\n",
    "plt.show()\n"
   ]
  }
 ],
 "metadata": {
  "language_info": {
   "name": "python"
  }
 },
 "nbformat": 4,
 "nbformat_minor": 5
}
